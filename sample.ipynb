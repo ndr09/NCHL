{
  "nbformat": 4,
  "nbformat_minor": 0,
  "metadata": {
    "colab": {
      "provenance": []
    },
    "kernelspec": {
      "name": "python3",
      "display_name": "Python 3"
    },
    "language_info": {
      "name": "python"
    }
  },
  "cells": [
    {
      "cell_type": "code",
      "source": [
        "!python -m pip install cma\n",
        "!python -m pip install gymnasium"
      ],
      "metadata": {
        "colab": {
          "base_uri": "https://localhost:8080/"
        },
        "id": "pfWxWn_Q-Kzd",
        "outputId": "0bd53592-0da5-4817-9374-2977d1f2b3fc"
      },
      "execution_count": 1,
      "outputs": [
        {
          "output_type": "stream",
          "name": "stdout",
          "text": [
            "Requirement already satisfied: cma in /usr/local/lib/python3.10/dist-packages (3.3.0)\n",
            "Requirement already satisfied: numpy in /usr/local/lib/python3.10/dist-packages (from cma) (1.25.2)\n",
            "Requirement already satisfied: gymnasium in /usr/local/lib/python3.10/dist-packages (0.29.1)\n",
            "Requirement already satisfied: numpy>=1.21.0 in /usr/local/lib/python3.10/dist-packages (from gymnasium) (1.25.2)\n",
            "Requirement already satisfied: cloudpickle>=1.2.0 in /usr/local/lib/python3.10/dist-packages (from gymnasium) (2.2.1)\n",
            "Requirement already satisfied: typing-extensions>=4.3.0 in /usr/local/lib/python3.10/dist-packages (from gymnasium) (4.11.0)\n",
            "Requirement already satisfied: farama-notifications>=0.0.1 in /usr/local/lib/python3.10/dist-packages (from gymnasium) (0.0.4)\n"
          ]
        }
      ]
    },
    {
      "cell_type": "code",
      "source": [
        "import numpy as np\n",
        "import functools\n",
        "from random import Random\n",
        "from cma import CMAEvolutionStrategy as cmaes\n",
        "import gymnasium as gym\n",
        "import torch\n",
        "from matplotlib import pyplot as plt\n",
        "import numpy as np\n",
        "import torch\n",
        "import torch.nn as nn\n",
        "import torch.nn.functional as F\n",
        "import time\n",
        "from tqdm import tqdm"
      ],
      "metadata": {
        "id": "lf3uzqQF-erJ"
      },
      "execution_count": 30,
      "outputs": []
    },
    {
      "cell_type": "markdown",
      "source": [
        "Utility wrapper for the CMAES optimizer"
      ],
      "metadata": {
        "id": "FM1tvDQsAQM7"
      }
    },
    {
      "cell_type": "code",
      "execution_count": 31,
      "metadata": {
        "id": "6YZN2M-B9m8X"
      },
      "outputs": [],
      "source": [
        "\n",
        "def generator(random, args):\n",
        "    return np.asarray([random.uniform(args[\"pop_init_range\"][0],\n",
        "                                      args[\"pop_init_range\"][1])\n",
        "                       for _ in range(args[\"num_vars\"])])\n",
        "\n",
        "\n",
        "def generator_wrapper(func):\n",
        "    @functools.wraps(func)\n",
        "    def _generator(random, args):\n",
        "        return np.asarray(func(random, args))\n",
        "\n",
        "    return _generator\n",
        "\n",
        "\n",
        "class Optimizer():\n",
        "\n",
        "    def __init__(self, num_vars, seed=0, pop_init_range=[-1,1], lmbda=20, mu=10, sigma=1.):\n",
        "        args = {\n",
        "            \"num_vars\": num_vars,\n",
        "            \"pop_init_range\": pop_init_range,\n",
        "        }\n",
        "        self.cmaes = cmaes(generator(Random(seed), args),\n",
        "                           sigma,\n",
        "                           {'popsize': lmbda,\n",
        "                            'seed': seed,\n",
        "                            'CMA_mu': mu})\n",
        "        self.pop = []\n",
        "        self.best = None\n",
        "\n",
        "    def tell(self, fitness):\n",
        "        self.cmaes.tell(self.pop, fitness)\n",
        "        self.best = self.cmaes.best\n",
        "\n",
        "    def ask(self):\n",
        "        self.pop = self.cmaes.ask()\n",
        "        return self.pop[:]\n",
        "\n"
      ]
    },
    {
      "cell_type": "markdown",
      "source": [
        "Evaluation function"
      ],
      "metadata": {
        "id": "MCKFqnGDAVjf"
      }
    },
    {
      "cell_type": "code",
      "source": [
        "def eval(params):\n",
        "    cumulative_rewards = []\n",
        "    task = gym.make(\"CartPole-v1\")\n",
        "    # the Agent is a NCHL network with 4 inputs, one hidden layer with 10 nodes and 2 outputs\n",
        "    nodes = [4, 10, 2]\n",
        "    agent = NCHL(nodes)\n",
        "    # We set the hebbian rules of the model\n",
        "    agent.set_params(params)\n",
        "    obs, info = task.reset()\n",
        "    rews = []\n",
        "    done = False\n",
        "    truncated =False\n",
        "    for i in range(1):\n",
        "        rews.append(0)\n",
        "        while not (done or truncated):\n",
        "            input = torch.tensor(obs)\n",
        "            # we obtain the output of the network with the forward method\n",
        "            output = agent.forward(input)\n",
        "            # We update the weights with the following method\n",
        "            agent.update_weights()\n",
        "\n",
        "            obs, rew, done, truncated,  info = task.step(np.argmax(output.tolist()))\n",
        "            rews[-1] += rew\n",
        "    return -np.mean(rews)\n",
        "\n"
      ],
      "metadata": {
        "id": "GShTc0RN-HqW"
      },
      "execution_count": 33,
      "outputs": []
    },
    {
      "cell_type": "markdown",
      "source": [
        "The follwing cell will use CMAES to optimize the Hebbian rules of a NCHL model to solve the cartpole task."
      ],
      "metadata": {
        "id": "iwqL3iTEBGz6"
      }
    },
    {
      "cell_type": "code",
      "source": [
        "\n",
        "class NN(nn.Module):\n",
        "    def __init__(self, nodes: list, grad=False, init=None, device=\"cpu\"):\n",
        "        super(NN, self).__init__()\n",
        "        self.device = torch.device(device)\n",
        "        self.nodes = torch.tensor(nodes).to(self.device)\n",
        "        self.nweights = sum([self.nodes[i] * self.nodes[i + 1] for i in\n",
        "                             range(len(self.nodes) - 1)])  # nodes[0]*nodes[1]+nodes[1]*nodes[2]+nodes[2]*nodes[3]\n",
        "\n",
        "        self.networks = []\n",
        "        self.activations = []\n",
        "        self.grad = grad\n",
        "        for i in range(len(nodes) - 1):\n",
        "            self.networks.append(nn.Linear(nodes[i], nodes[i + 1], bias=False))\n",
        "        if init is None:\n",
        "            self.set_weights([0. for _ in range(self.nweights)])\n",
        "        else:\n",
        "            for l in self.networks:\n",
        "                if init == 'xa_uni':\n",
        "                    torch.nn.init.xavier_uniform(l.weight.data, 0.3)\n",
        "                elif init == 'sparse':\n",
        "                    torch.nn.init.sparse_(l.weight.data, 0.8)\n",
        "                elif init == 'uni':\n",
        "                    torch.nn.init.uniform_(l.weight.data, -0.1, 0.1)\n",
        "                elif init == 'normal':\n",
        "                    torch.nn.init.normal_(l.weight.data, 0, 0.024)\n",
        "                elif init == 'ka_uni':\n",
        "                    torch.nn.init.kaiming_uniform_(l.weight.data, 3)\n",
        "                elif init == 'uni_big':\n",
        "                    torch.nn.init.uniform_(l.weight.data, -1, 1)\n",
        "                elif init == 'xa_uni_big':\n",
        "                    torch.nn.init.xavier_uniform(l.weight.data)\n",
        "        self.double()\n",
        "\n",
        "    def forward(self, inputs):\n",
        "        with torch.no_grad():\n",
        "            self.activations = []\n",
        "            x = inputs.to(self.device)\n",
        "            self.activations.append(torch.clone(x).to(self.device))\n",
        "            # print(x)\n",
        "            c = 0\n",
        "            for l in self.networks:\n",
        "                x = l(x)\n",
        "                # print(x, l.weight.data)\n",
        "                x = torch.tanh(x)\n",
        "\n",
        "                c += 1\n",
        "                self.activations.append(torch.clone(x))\n",
        "\n",
        "            return x\n",
        "\n",
        "    def get_weights(self):\n",
        "        tmp = []\n",
        "        for l in self.networks:\n",
        "            tmp.append(l.weight.data)\n",
        "        return tmp\n",
        "\n",
        "    def set_weights(self, weights):\n",
        "        if type(weights) == list and type(weights[0]) == torch.Tensor:\n",
        "            for i in range(len(self.networks)):\n",
        "                self.networks[i].weight = nn.Parameter(weights[i], requires_grad=self.grad)\n",
        "        elif len(weights) == self.nweights:\n",
        "            tmp = self.get_weights()\n",
        "            start = 0\n",
        "            i = 0\n",
        "            for l in tmp:\n",
        "                size = l.size()[0] * l.size()[1] + start\n",
        "                params = torch.tensor(weights[start:size])\n",
        "                start = size\n",
        "                self.networks[i].weight = nn.Parameter(\n",
        "                    torch.reshape(params, (l.size()[0], l.size()[1])).to(self.device))\n",
        "                i += 1\n",
        "\n",
        "\n",
        "class NCHL(NN):\n",
        "    def __init__(self, nodes: list, params=None, grad=False, device=\"cpu\", init=None):\n",
        "        super(NCHL, self).__init__(nodes, grad=grad, device=device, init=init)\n",
        "\n",
        "        self.hrules = []\n",
        "        self.nparams = sum(self.nodes) * 5 - self.nodes[0] - self.nodes[-1]\n",
        "        self.eta = []\n",
        "\n",
        "        self.eta = None\n",
        "        if params is not None:\n",
        "            self.set_params(params)\n",
        "\n",
        "    def set_params(self, params: list):\n",
        "        etas = params[:sum(self.nodes)]\n",
        "        hrules = params[sum(self.nodes):]\n",
        "\n",
        "        self.set_hrules(hrules)\n",
        "        self.set_eta(etas)\n",
        "\n",
        "    def set_hrules(self, hrules: list):\n",
        "\n",
        "        assert len(hrules) == sum(self.nodes) * 4 - self.nodes[0] - self.nodes[-1], \"needed \" + str(\n",
        "            sum(self.nodes) * 4 - self.nodes[0] - self.nodes[-1]) + \" received \" + str(len(hrules))\n",
        "        start = 0\n",
        "        size = self.nodes[0] * 3 + start\n",
        "        tmp = np.reshape(hrules[start:size], (self.nodes[0], 3))\n",
        "        tmp1 = np.zeros((self.nodes[0], 4))\n",
        "        for i in range(self.nodes[0]):\n",
        "            tmp1[i] = np.insert(tmp[i], 1, 0.)\n",
        "\n",
        "        params = torch.tensor(tmp1)\n",
        "        self.hrules.append(params)\n",
        "\n",
        "        for l in self.nodes[1:-1]:\n",
        "            size = l * 4 + start\n",
        "            params = torch.tensor(hrules[start:size])\n",
        "            self.hrules.append(torch.reshape(params, (l, 4)))\n",
        "\n",
        "            start = size\n",
        "\n",
        "        size = self.nodes[-1] * 3 + start\n",
        "        params = torch.tensor(hrules[start:size])\n",
        "        tmp = torch.reshape(params, (self.nodes[-1], 3))\n",
        "        tmp1 = torch.tensor([[0.] for i in range(self.nodes[-1])])\n",
        "        self.hrules.append(torch.hstack((tmp1, tmp)).to(self.device))\n",
        "\n",
        "    def set_eta(self, etas: list):\n",
        "        assert len(etas) == sum(self.nodes), \"needed \" + str(\n",
        "            sum(self.nodes)) + \" received \" + str(len(etas))\n",
        "        self.eta = []\n",
        "        start = 0\n",
        "        for l in self.nodes:\n",
        "            self.eta.append(torch.tensor(etas[start:start + l]).to(self.device))\n",
        "            start += l\n",
        "\n",
        "    def update_weights(self):\n",
        "        weights = self.get_weights()\n",
        "        num_layers = len(weights)\n",
        "        t = time.time()\n",
        "        dws = []\n",
        "        for i in range(num_layers):\n",
        "            l = weights[i]\n",
        "\n",
        "            l_size = l.shape\n",
        "            activations_i = self.activations[i].to(self.device)\n",
        "            activations_i1 = self.activations[i + 1].to(self.device)\n",
        "            hrule_i = self.hrules[i].to(self.device)\n",
        "            hrule_i1 = self.hrules[i + 1].to(self.device)\n",
        "\n",
        "            # Use broadcasting to perform element-wise operations without loops\n",
        "\n",
        "            pre_i = torch.reshape(hrule_i[:, 0] * activations_i, (1, activations_i.size()[0]))\n",
        "            pre_i = pre_i.repeat((activations_i1.size()[0], 1))\n",
        "            post_j = torch.reshape(hrule_i1[:, 1] * activations_i1, (activations_i1.size()[0], 1))\n",
        "            post_j = post_j.repeat((1, activations_i.size()[0]))\n",
        "\n",
        "            c_i = torch.reshape(torch.where(hrule_i[:, 2] == 1., 1., hrule_i[:, 2] * activations_i),\n",
        "                                (1, activations_i.size()[0]))\n",
        "            c_j = torch.reshape(torch.where(hrule_i1[:, 2] == 1., 1., hrule_i1[:, 2] * activations_i1),\n",
        "                                (activations_i1.size()[0], 1))\n",
        "            d_i = torch.reshape(hrule_i[:, 3], (1, activations_i.size()[0]))\n",
        "            d_j = torch.reshape(hrule_i1[:, 3], (activations_i1.size()[0], 1))\n",
        "\n",
        "            dw = pre_i + post_j + torch.where((c_i == 1.) & (c_j == 1.), 0, c_i * c_j) + torch.where(\n",
        "                (d_i == 1.) & (d_j == 1.), 0, d_i * d_j)\n",
        "            dws.append(dw)\n",
        "            # print(self.eta[i].repeat(activations_i1.size()[0], 1).size(),\n",
        "            #       torch.reshape(self.eta[i+1], (activations_i1.size()[0], 1)).repeat((1, activations_i.size()[0])).size(),\n",
        "            #       dw.size())\n",
        "            pre_eta = self.eta[i].repeat(activations_i1.size()[0], 1)\n",
        "            post_eta = torch.reshape(self.eta[i + 1], (activations_i1.size()[0], 1)).repeat(\n",
        "                (1, activations_i.size()[0]))\n",
        "            l += (pre_eta + post_eta) / 2 * dw\n",
        "\n",
        "        self.set_weights(weights)\n"
      ],
      "metadata": {
        "id": "SrskUNwVIMgl"
      },
      "execution_count": 16,
      "outputs": []
    },
    {
      "cell_type": "code",
      "source": [
        "# To obtain the number of parameters to optimzie we can use the nparams attribute of the NHNN class\n",
        "fka = NCHL([4,10,2])\n",
        "number_of_parameters = fka.nparams\n",
        "\n",
        "# optimizer initialization\n",
        "opt = Optimizer(number_of_parameters)\n",
        "\n",
        "best_sol_fitness = []\n",
        "\n",
        "# Iterates for some generations\n",
        "for i in tqdm(range(20)):\n",
        "    inds = opt.ask()\n",
        "    fits = [eval(ind) for ind in inds]\n",
        "    opt.tell(fits)\n",
        "    best_sol_fitness.append(-np.min(fits))\n",
        "\n",
        "plt.plot(best_sol_fitness)"
      ],
      "metadata": {
        "colab": {
          "base_uri": "https://localhost:8080/",
          "height": 503
        },
        "id": "uk7gkqb2BGgU",
        "outputId": "8663ce17-115e-4caa-9728-e4941fc9636a"
      },
      "execution_count": 34,
      "outputs": [
        {
          "output_type": "stream",
          "name": "stdout",
          "text": [
            "mu = 10\n",
            "(10_w,20)-aCMA-ES (mu_w=5.9,w_1=27%) in dimension 74 (seed=747104, Sat Apr 20 15:44:12 2024)\n"
          ]
        },
        {
          "output_type": "stream",
          "name": "stderr",
          "text": [
            "100%|██████████| 20/20 [01:28<00:00,  4.43s/it]\n"
          ]
        },
        {
          "output_type": "execute_result",
          "data": {
            "text/plain": [
              "[<matplotlib.lines.Line2D at 0x7b81c37d25f0>]"
            ]
          },
          "metadata": {},
          "execution_count": 34
        },
        {
          "output_type": "display_data",
          "data": {
            "text/plain": [
              "<Figure size 640x480 with 1 Axes>"
            ],
            "image/png": "[encoded data removed]"
          },
          "metadata": {}
        }
      ]
    }
  ]
}